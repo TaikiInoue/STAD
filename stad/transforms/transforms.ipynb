{
 "metadata": {
  "language_info": {
   "codemirror_mode": {
    "name": "ipython",
    "version": 3
   },
   "file_extension": ".py",
   "mimetype": "text/x-python",
   "name": "python",
   "nbconvert_exporter": "python",
   "pygments_lexer": "ipython3",
   "version": "3.6.5-final"
  },
  "orig_nbformat": 2,
  "kernelspec": {
   "name": "python3",
   "display_name": "Python 3",
   "language": "python"
  }
 },
 "nbformat": 4,
 "nbformat_minor": 2,
 "cells": [
  {
   "cell_type": "code",
   "execution_count": 1,
   "metadata": {},
   "outputs": [],
   "source": [
    "import sys\n",
    "sys.path.append(\"/dgx/github/STAD\")"
   ]
  },
  {
   "cell_type": "code",
   "execution_count": 2,
   "metadata": {},
   "outputs": [],
   "source": [
    "from stad import transforms"
   ]
  },
  {
   "cell_type": "code",
   "execution_count": 5,
   "metadata": {},
   "outputs": [],
   "source": [
    "train_preprocess = transforms.Compose([\n",
    "    transforms.RandomCrop(128, 128, p=1),\n",
    "    transforms.HorizontalFlip(p=1),\n",
    "    transforms.VerticalFlip(p=1),\n",
    "    transforms.OneOf([\n",
    "        transforms.RandomContrast(p=1),\n",
    "        transforms.RandomBrightness(p=1),\n",
    "        transforms.RandomGamma(p=1)\n",
    "    ], p=1),\n",
    "    transforms.Normalize(mean=(0.485, 0.456, 0.406), std=(0.229, 0.224, 0.225), p=1),\n",
    "    transforms.ToTensor(p=1),\n",
    "])\n",
    "\n",
    "transforms.save(train_preprocess, \"train.yaml\", data_format=\"yaml\")"
   ]
  },
  {
   "cell_type": "code",
   "execution_count": 5,
   "metadata": {},
   "outputs": [],
   "source": [
    "val_test_preprocess = transforms.Compose([\n",
    "    transforms.Normalize(mean=(0.485, 0.456, 0.406), std=(0.229, 0.224, 0.225), p=1),\n",
    "    transforms.ToTensor(p=1),\n",
    "])\n",
    "\n",
    "transforms.save(val_test_preprocess, \"val_test.yaml\", data_format=\"yaml\")"
   ]
  },
  {
   "cell_type": "code",
   "execution_count": null,
   "metadata": {},
   "outputs": [],
   "source": []
  }
 ]
}